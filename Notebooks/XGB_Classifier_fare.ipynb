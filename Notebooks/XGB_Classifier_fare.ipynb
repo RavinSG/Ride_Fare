{
 "cells": [
  {
   "cell_type": "code",
   "execution_count": 20,
   "metadata": {},
   "outputs": [],
   "source": [
    "from sklearn.metrics import f1_score\n",
    "import pandas as pd\n",
    "import numpy as np\n",
    "from numpy import savetxt\n",
    "from sklearn.preprocessing import OneHotEncoder, RobustScaler\n",
    "from sklearn.impute import SimpleImputer\n",
    "from bayes_opt import BayesianOptimization\n",
    "\n",
    "from xgboost import XGBClassifier\n",
    "\n",
    "from sklearn.model_selection import train_test_split\n",
    "\n",
    "RANDOM_SEED = 8"
   ]
  },
  {
   "cell_type": "code",
   "execution_count": 21,
   "metadata": {},
   "outputs": [],
   "source": [
    "simple_imputer = SimpleImputer(strategy='most_frequent')\n",
    "robust_scaler = RobustScaler()"
   ]
  },
  {
   "cell_type": "code",
   "execution_count": 22,
   "metadata": {},
   "outputs": [],
   "source": [
    "def clean_dataframe(train=True):\n",
    "    if train:\n",
    "        df = pd.read_csv(\"train.csv\", index_col=\"tripid\")\n",
    "    else:\n",
    "        df = pd.read_csv(\"test.csv\", index_col=\"tripid\")\n",
    "\n",
    "    df['checkout_datetime'] = pd.to_datetime(df['drop_time'])\n",
    "    df['checkin_datetime'] = pd.to_datetime(df['pickup_time'])\n",
    "    df['duration_in_minutes'] = (df['checkout_datetime'] - df['checkin_datetime']) / pd.Timedelta(\n",
    "        minutes=1)\n",
    "    df['lat'] = abs(df['pick_lat'] - df['drop_lat'])\n",
    "    df['lon'] = abs(df['pick_lon'] - df['drop_lon'])\n",
    "\n",
    "    df['date_time'] = pd.to_datetime(df['drop_time'])\n",
    "\n",
    "    df['remaining_fare'] = df['fare'] - df['additional_fare'] - df['meter_waiting_fare']\n",
    "\n",
    "    df['mobile_time'] = df['duration'] - df['meter_waiting'] - df['meter_waiting_till_pickup']\n",
    "\n",
    "    df['fare'] = df['fare'].fillna(0)\n",
    "\n",
    "    features = df.drop(\n",
    "        [\"date_time\", \"duration\", 'pick_lat', 'pick_lon', 'drop_lat', 'drop_lon', \"pickup_time\", \"drop_time\",\n",
    "         \"checkin_datetime\", \"checkout_datetime\"], axis=1)\n",
    "\n",
    "    \n",
    "    if train:\n",
    "        labels = (df['label'] == 'correct').astype('int')\n",
    "        features = features.drop(columns=['label'])\n",
    "        features = simple_imputer.fit_transform(features)\n",
    "        features = robust_scaler.fit_transform(features)\n",
    "        return features, labels\n",
    "    else:\n",
    "        features = simple_imputer.transform(features)\n",
    "        features = robust_scaler.transform(features)\n",
    "        return features"
   ]
  },
  {
   "cell_type": "code",
   "execution_count": 23,
   "metadata": {},
   "outputs": [],
   "source": [
    "features, labels = clean_dataframe()\n",
    "sub = clean_dataframe(train=False)"
   ]
  },
  {
   "cell_type": "code",
   "execution_count": 24,
   "metadata": {},
   "outputs": [
    {
     "data": {
      "text/plain": [
       "((17176, 10), (17176,))"
      ]
     },
     "execution_count": 24,
     "metadata": {},
     "output_type": "execute_result"
    }
   ],
   "source": [
    "features.shape,labels.shape"
   ]
  },
  {
   "cell_type": "code",
   "execution_count": 25,
   "metadata": {},
   "outputs": [],
   "source": [
    "X_train, X_eval, y_train, y_eval = train_test_split(features, labels, test_size=0.2, shuffle=True,\n",
    "                                                    stratify=labels, random_state=RANDOM_SEED)"
   ]
  },
  {
   "cell_type": "code",
   "execution_count": 26,
   "metadata": {},
   "outputs": [
    {
     "data": {
      "text/plain": [
       "13740"
      ]
     },
     "execution_count": 26,
     "metadata": {},
     "output_type": "execute_result"
    }
   ],
   "source": [
    "len(X_train)"
   ]
  },
  {
   "cell_type": "code",
   "execution_count": 27,
   "metadata": {},
   "outputs": [],
   "source": [
    "X_train,X_test,y_train,y_test = train_test_split(X_train, y_train, test_size=0.2, shuffle=True,\n",
    "                                                    stratify=y_train, random_state=RANDOM_SEED)"
   ]
  },
  {
   "cell_type": "code",
   "execution_count": 28,
   "metadata": {},
   "outputs": [
    {
     "data": {
      "text/plain": [
       "tripid\n",
       "197286960    1\n",
       "204184374    1\n",
       "209714384    1\n",
       "205031570    1\n",
       "190273835    1\n",
       "            ..\n",
       "193093216    1\n",
       "208887260    1\n",
       "208952012    1\n",
       "195814383    1\n",
       "189337200    1\n",
       "Name: label, Length: 2748, dtype: int32"
      ]
     },
     "execution_count": 28,
     "metadata": {},
     "output_type": "execute_result"
    }
   ],
   "source": [
    "y_test"
   ]
  },
  {
   "cell_type": "code",
   "execution_count": 29,
   "metadata": {},
   "outputs": [
    {
     "data": {
      "text/plain": [
       "(10992, 2748)"
      ]
     },
     "execution_count": 29,
     "metadata": {},
     "output_type": "execute_result"
    }
   ],
   "source": [
    "len(X_train),len(X_test)"
   ]
  },
  {
   "cell_type": "code",
   "execution_count": 30,
   "metadata": {},
   "outputs": [],
   "source": [
    "def f1_eval(y_pred, dtrain):\n",
    "    y_true = dtrain.get_label()\n",
    "    err = 1-f1_score(y_true, np.round(y_pred))\n",
    "    return 'f1_err', err"
   ]
  },
  {
   "cell_type": "code",
   "execution_count": 31,
   "metadata": {},
   "outputs": [
    {
     "name": "stdout",
     "output_type": "stream",
     "text": [
      "[0]\tvalidation_0-error:0.05968\tvalidation_0-f1_err:0.03223\n",
      "Multiple eval metrics have been passed: 'validation_0-f1_err' will be used for early stopping.\n",
      "\n",
      "Will train until validation_0-f1_err hasn't improved in 10 rounds.\n",
      "[1]\tvalidation_0-error:0.05895\tvalidation_0-f1_err:0.03184\n",
      "[2]\tvalidation_0-error:0.05859\tvalidation_0-f1_err:0.03164\n",
      "[3]\tvalidation_0-error:0.05713\tvalidation_0-f1_err:0.03087\n",
      "[4]\tvalidation_0-error:0.05604\tvalidation_0-f1_err:0.03029\n",
      "[5]\tvalidation_0-error:0.05640\tvalidation_0-f1_err:0.03053\n",
      "[6]\tvalidation_0-error:0.05531\tvalidation_0-f1_err:0.02994\n",
      "[7]\tvalidation_0-error:0.05349\tvalidation_0-f1_err:0.02897\n",
      "[8]\tvalidation_0-error:0.05459\tvalidation_0-f1_err:0.02957\n",
      "[9]\tvalidation_0-error:0.05240\tvalidation_0-f1_err:0.02840\n",
      "[10]\tvalidation_0-error:0.05313\tvalidation_0-f1_err:0.02881\n",
      "[11]\tvalidation_0-error:0.05095\tvalidation_0-f1_err:0.02765\n",
      "[12]\tvalidation_0-error:0.05167\tvalidation_0-f1_err:0.02806\n",
      "[13]\tvalidation_0-error:0.05058\tvalidation_0-f1_err:0.02748\n",
      "[14]\tvalidation_0-error:0.04985\tvalidation_0-f1_err:0.02708\n",
      "[15]\tvalidation_0-error:0.04985\tvalidation_0-f1_err:0.02708\n",
      "[16]\tvalidation_0-error:0.05058\tvalidation_0-f1_err:0.02749\n",
      "[17]\tvalidation_0-error:0.05058\tvalidation_0-f1_err:0.02751\n",
      "[18]\tvalidation_0-error:0.05022\tvalidation_0-f1_err:0.02730\n",
      "[19]\tvalidation_0-error:0.05095\tvalidation_0-f1_err:0.02770\n",
      "[20]\tvalidation_0-error:0.05095\tvalidation_0-f1_err:0.02770\n",
      "[21]\tvalidation_0-error:0.04985\tvalidation_0-f1_err:0.02711\n",
      "[22]\tvalidation_0-error:0.04949\tvalidation_0-f1_err:0.02691\n",
      "[23]\tvalidation_0-error:0.05095\tvalidation_0-f1_err:0.02773\n",
      "[24]\tvalidation_0-error:0.05058\tvalidation_0-f1_err:0.02753\n",
      "[25]\tvalidation_0-error:0.05095\tvalidation_0-f1_err:0.02772\n",
      "[26]\tvalidation_0-error:0.04913\tvalidation_0-f1_err:0.02675\n",
      "[27]\tvalidation_0-error:0.04876\tvalidation_0-f1_err:0.02656\n",
      "[28]\tvalidation_0-error:0.04840\tvalidation_0-f1_err:0.02636\n",
      "[29]\tvalidation_0-error:0.04876\tvalidation_0-f1_err:0.02656\n",
      "[30]\tvalidation_0-error:0.04840\tvalidation_0-f1_err:0.02637\n",
      "[31]\tvalidation_0-error:0.04840\tvalidation_0-f1_err:0.02637\n",
      "[32]\tvalidation_0-error:0.04804\tvalidation_0-f1_err:0.02617\n",
      "[33]\tvalidation_0-error:0.04804\tvalidation_0-f1_err:0.02617\n",
      "[34]\tvalidation_0-error:0.04876\tvalidation_0-f1_err:0.02658\n",
      "[35]\tvalidation_0-error:0.04804\tvalidation_0-f1_err:0.02619\n",
      "[36]\tvalidation_0-error:0.04876\tvalidation_0-f1_err:0.02659\n",
      "[37]\tvalidation_0-error:0.04913\tvalidation_0-f1_err:0.02678\n",
      "[38]\tvalidation_0-error:0.04767\tvalidation_0-f1_err:0.02599\n",
      "[39]\tvalidation_0-error:0.04913\tvalidation_0-f1_err:0.02677\n",
      "[40]\tvalidation_0-error:0.04876\tvalidation_0-f1_err:0.02659\n",
      "[41]\tvalidation_0-error:0.04804\tvalidation_0-f1_err:0.02620\n",
      "[42]\tvalidation_0-error:0.04804\tvalidation_0-f1_err:0.02620\n",
      "[43]\tvalidation_0-error:0.04767\tvalidation_0-f1_err:0.02601\n",
      "[44]\tvalidation_0-error:0.04840\tvalidation_0-f1_err:0.02639\n",
      "[45]\tvalidation_0-error:0.04804\tvalidation_0-f1_err:0.02618\n",
      "[46]\tvalidation_0-error:0.04804\tvalidation_0-f1_err:0.02618\n",
      "[47]\tvalidation_0-error:0.04767\tvalidation_0-f1_err:0.02599\n",
      "[48]\tvalidation_0-error:0.04767\tvalidation_0-f1_err:0.02599\n",
      "Stopping. Best iteration:\n",
      "[38]\tvalidation_0-error:0.04767\tvalidation_0-f1_err:0.02599\n",
      "\n"
     ]
    },
    {
     "data": {
      "text/plain": [
       "XGBClassifier(base_score=0.5, booster=None, colsample_bylevel=1,\n",
       "              colsample_bynode=1, colsample_bytree=1, gamma=0, gpu_id=-1,\n",
       "              importance_type='gain', interaction_constraints=None,\n",
       "              learning_rate=0.300000012, max_delta_step=0, max_depth=6,\n",
       "              min_child_weight=1, missing=nan, monotone_constraints=None,\n",
       "              n_estimators=100, n_jobs=0, num_parallel_tree=1,\n",
       "              objective='binary:logistic', random_state=0, reg_alpha=0,\n",
       "              reg_lambda=1, scale_pos_weight=1, subsample=1, tree_method=None,\n",
       "              validate_parameters=False, verbosity=None)"
      ]
     },
     "execution_count": 31,
     "metadata": {},
     "output_type": "execute_result"
    }
   ],
   "source": [
    "trip_model = XGBClassifier()\n",
    "trip_model.fit(X=X_train, y=y_train,eval_set=[(X_test,y_test)],eval_metric=f1_eval,early_stopping_rounds=10)"
   ]
  },
  {
   "cell_type": "code",
   "execution_count": null,
   "metadata": {},
   "outputs": [],
   "source": []
  }
 ],
 "metadata": {
  "kernelspec": {
   "display_name": "Python 3",
   "language": "python",
   "name": "python3"
  },
  "language_info": {
   "codemirror_mode": {
    "name": "ipython",
    "version": 3
   },
   "file_extension": ".py",
   "mimetype": "text/x-python",
   "name": "python",
   "nbconvert_exporter": "python",
   "pygments_lexer": "ipython3",
   "version": "3.6.8"
  }
 },
 "nbformat": 4,
 "nbformat_minor": 2
}
